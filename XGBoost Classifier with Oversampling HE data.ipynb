{
 "cells": [
  {
   "cell_type": "code",
   "execution_count": 1,
   "id": "285b562b",
   "metadata": {},
   "outputs": [],
   "source": [
    "import numpy as np\n",
    "import pandas as pd\n",
    "\n",
    "\n",
    "exo_train_df = pd.read_csv('https://s3-student-datasets-bucket.whjr.online/whitehat-ds-datasets/kepler-exoplanets-dataset/exoTrain.csv')\n",
    "exo_test_df = pd.read_csv('https://s3-student-datasets-bucket.whjr.online/whitehat-ds-datasets/kepler-exoplanets-dataset/exoTest.csv')"
   ]
  },
  {
   "cell_type": "code",
   "execution_count": 2,
   "id": "671400dc",
   "metadata": {},
   "outputs": [],
   "source": [
    "def mean_normalise(series):\n",
    "    norm_series = (series - series.mean()) / (series.max() - series.min())\n",
    "    return norm_series"
   ]
  },
  {
   "cell_type": "code",
   "execution_count": 3,
   "id": "babf3493",
   "metadata": {},
   "outputs": [],
   "source": [
    "norm_train_df = exo_train_df.iloc[:, 1:].apply(mean_normalise, axis=1)\n",
    "norm_train_df.insert(loc=0,column='LABEL',value=exo_train_df['LABEL'])"
   ]
  },
  {
   "cell_type": "code",
   "execution_count": 5,
   "id": "44886c89",
   "metadata": {},
   "outputs": [],
   "source": [
    "norm_test_df = exo_test_df.iloc[:, 1:].apply(mean_normalise, axis=1)\n",
    "norm_test_df.insert(loc=0,column='LABEL',value=exo_test_df['LABEL'])"
   ]
  },
  {
   "cell_type": "code",
   "execution_count": 6,
   "id": "4ff5d009",
   "metadata": {},
   "outputs": [],
   "source": [
    "def fast_fourier_transform(star ):\n",
    "    fft_star = np.fft.fft(star, n=len(star))\n",
    "    return np.abs(fft_star)"
   ]
  },
  {
   "cell_type": "code",
   "execution_count": 7,
   "id": "a48d6d74",
   "metadata": {},
   "outputs": [
    {
     "data": {
      "text/html": [
       "<div>\n",
       "<style scoped>\n",
       "    .dataframe tbody tr th:only-of-type {\n",
       "        vertical-align: middle;\n",
       "    }\n",
       "\n",
       "    .dataframe tbody tr th {\n",
       "        vertical-align: top;\n",
       "    }\n",
       "\n",
       "    .dataframe thead th {\n",
       "        text-align: right;\n",
       "    }\n",
       "</style>\n",
       "<table border=\"1\" class=\"dataframe\">\n",
       "  <thead>\n",
       "    <tr style=\"text-align: right;\">\n",
       "      <th></th>\n",
       "      <th>FLUX.1</th>\n",
       "      <th>FLUX.2</th>\n",
       "      <th>FLUX.3</th>\n",
       "      <th>FLUX.4</th>\n",
       "      <th>FLUX.5</th>\n",
       "      <th>FLUX.6</th>\n",
       "      <th>FLUX.7</th>\n",
       "      <th>FLUX.8</th>\n",
       "      <th>FLUX.9</th>\n",
       "      <th>FLUX.10</th>\n",
       "      <th>...</th>\n",
       "      <th>FLUX.3188</th>\n",
       "      <th>FLUX.3189</th>\n",
       "      <th>FLUX.3190</th>\n",
       "      <th>FLUX.3191</th>\n",
       "      <th>FLUX.3192</th>\n",
       "      <th>FLUX.3193</th>\n",
       "      <th>FLUX.3194</th>\n",
       "      <th>FLUX.3195</th>\n",
       "      <th>FLUX.3196</th>\n",
       "      <th>FLUX.3197</th>\n",
       "    </tr>\n",
       "  </thead>\n",
       "  <tbody>\n",
       "    <tr>\n",
       "      <th>0</th>\n",
       "      <td>6.620116e-14</td>\n",
       "      <td>2.273248</td>\n",
       "      <td>35.722883</td>\n",
       "      <td>33.978236</td>\n",
       "      <td>128.816503</td>\n",
       "      <td>18.835061</td>\n",
       "      <td>16.101795</td>\n",
       "      <td>10.722037</td>\n",
       "      <td>18.488302</td>\n",
       "      <td>16.400976</td>\n",
       "      <td>...</td>\n",
       "      <td>1.920231</td>\n",
       "      <td>16.400976</td>\n",
       "      <td>18.488302</td>\n",
       "      <td>10.722037</td>\n",
       "      <td>16.101795</td>\n",
       "      <td>18.835061</td>\n",
       "      <td>128.816503</td>\n",
       "      <td>33.978236</td>\n",
       "      <td>35.722883</td>\n",
       "      <td>2.273248</td>\n",
       "    </tr>\n",
       "    <tr>\n",
       "      <th>1</th>\n",
       "      <td>4.821195e-14</td>\n",
       "      <td>30.299298</td>\n",
       "      <td>36.918808</td>\n",
       "      <td>38.376852</td>\n",
       "      <td>22.149931</td>\n",
       "      <td>33.282191</td>\n",
       "      <td>27.734204</td>\n",
       "      <td>11.862346</td>\n",
       "      <td>14.001221</td>\n",
       "      <td>14.221386</td>\n",
       "      <td>...</td>\n",
       "      <td>11.833992</td>\n",
       "      <td>14.221386</td>\n",
       "      <td>14.001221</td>\n",
       "      <td>11.862346</td>\n",
       "      <td>27.734204</td>\n",
       "      <td>33.282191</td>\n",
       "      <td>22.149931</td>\n",
       "      <td>38.376852</td>\n",
       "      <td>36.918808</td>\n",
       "      <td>30.299298</td>\n",
       "    </tr>\n",
       "    <tr>\n",
       "      <th>2</th>\n",
       "      <td>1.291464e-13</td>\n",
       "      <td>66.809870</td>\n",
       "      <td>19.498262</td>\n",
       "      <td>170.268810</td>\n",
       "      <td>48.413391</td>\n",
       "      <td>88.178733</td>\n",
       "      <td>57.407061</td>\n",
       "      <td>38.684283</td>\n",
       "      <td>10.503268</td>\n",
       "      <td>46.482585</td>\n",
       "      <td>...</td>\n",
       "      <td>22.681374</td>\n",
       "      <td>46.482585</td>\n",
       "      <td>10.503268</td>\n",
       "      <td>38.684283</td>\n",
       "      <td>57.407061</td>\n",
       "      <td>88.178733</td>\n",
       "      <td>48.413391</td>\n",
       "      <td>170.268810</td>\n",
       "      <td>19.498262</td>\n",
       "      <td>66.809870</td>\n",
       "    </tr>\n",
       "    <tr>\n",
       "      <th>3</th>\n",
       "      <td>2.498890e-14</td>\n",
       "      <td>19.369720</td>\n",
       "      <td>52.151962</td>\n",
       "      <td>108.097894</td>\n",
       "      <td>100.659024</td>\n",
       "      <td>269.416639</td>\n",
       "      <td>77.435861</td>\n",
       "      <td>71.256558</td>\n",
       "      <td>54.895479</td>\n",
       "      <td>33.335462</td>\n",
       "      <td>...</td>\n",
       "      <td>26.711804</td>\n",
       "      <td>33.335462</td>\n",
       "      <td>54.895479</td>\n",
       "      <td>71.256558</td>\n",
       "      <td>77.435861</td>\n",
       "      <td>269.416639</td>\n",
       "      <td>100.659024</td>\n",
       "      <td>108.097894</td>\n",
       "      <td>52.151962</td>\n",
       "      <td>19.369720</td>\n",
       "    </tr>\n",
       "    <tr>\n",
       "      <th>4</th>\n",
       "      <td>6.706859e-14</td>\n",
       "      <td>113.576655</td>\n",
       "      <td>51.382781</td>\n",
       "      <td>146.597215</td>\n",
       "      <td>148.627668</td>\n",
       "      <td>103.842855</td>\n",
       "      <td>116.738548</td>\n",
       "      <td>28.957862</td>\n",
       "      <td>36.451207</td>\n",
       "      <td>69.375686</td>\n",
       "      <td>...</td>\n",
       "      <td>4.923027</td>\n",
       "      <td>69.375686</td>\n",
       "      <td>36.451207</td>\n",
       "      <td>28.957862</td>\n",
       "      <td>116.738548</td>\n",
       "      <td>103.842855</td>\n",
       "      <td>148.627668</td>\n",
       "      <td>146.597215</td>\n",
       "      <td>51.382781</td>\n",
       "      <td>113.576655</td>\n",
       "    </tr>\n",
       "  </tbody>\n",
       "</table>\n",
       "<p>5 rows × 3197 columns</p>\n",
       "</div>"
      ],
      "text/plain": [
       "         FLUX.1      FLUX.2     FLUX.3      FLUX.4      FLUX.5      FLUX.6  \\\n",
       "0  6.620116e-14    2.273248  35.722883   33.978236  128.816503   18.835061   \n",
       "1  4.821195e-14   30.299298  36.918808   38.376852   22.149931   33.282191   \n",
       "2  1.291464e-13   66.809870  19.498262  170.268810   48.413391   88.178733   \n",
       "3  2.498890e-14   19.369720  52.151962  108.097894  100.659024  269.416639   \n",
       "4  6.706859e-14  113.576655  51.382781  146.597215  148.627668  103.842855   \n",
       "\n",
       "       FLUX.7     FLUX.8     FLUX.9    FLUX.10  ...  FLUX.3188  FLUX.3189  \\\n",
       "0   16.101795  10.722037  18.488302  16.400976  ...   1.920231  16.400976   \n",
       "1   27.734204  11.862346  14.001221  14.221386  ...  11.833992  14.221386   \n",
       "2   57.407061  38.684283  10.503268  46.482585  ...  22.681374  46.482585   \n",
       "3   77.435861  71.256558  54.895479  33.335462  ...  26.711804  33.335462   \n",
       "4  116.738548  28.957862  36.451207  69.375686  ...   4.923027  69.375686   \n",
       "\n",
       "   FLUX.3190  FLUX.3191   FLUX.3192   FLUX.3193   FLUX.3194   FLUX.3195  \\\n",
       "0  18.488302  10.722037   16.101795   18.835061  128.816503   33.978236   \n",
       "1  14.001221  11.862346   27.734204   33.282191   22.149931   38.376852   \n",
       "2  10.503268  38.684283   57.407061   88.178733   48.413391  170.268810   \n",
       "3  54.895479  71.256558   77.435861  269.416639  100.659024  108.097894   \n",
       "4  36.451207  28.957862  116.738548  103.842855  148.627668  146.597215   \n",
       "\n",
       "   FLUX.3196   FLUX.3197  \n",
       "0  35.722883    2.273248  \n",
       "1  36.918808   30.299298  \n",
       "2  19.498262   66.809870  \n",
       "3  52.151962   19.369720  \n",
       "4  51.382781  113.576655  \n",
       "\n",
       "[5 rows x 3197 columns]"
      ]
     },
     "execution_count": 7,
     "metadata": {},
     "output_type": "execute_result"
    }
   ],
   "source": [
    "freq = np.fft.fftfreq(len(exo_train_df.iloc[0, 1:]))\n",
    "x_fft_train_T = norm_train_df.iloc[:, 1:].T.apply(fast_fourier_transform)\n",
    "x_fft_train = x_fft_train_T.T\n",
    "x_fft_train.head()"
   ]
  },
  {
   "cell_type": "code",
   "execution_count": 8,
   "id": "a078901b",
   "metadata": {},
   "outputs": [
    {
     "data": {
      "text/html": [
       "<div>\n",
       "<style scoped>\n",
       "    .dataframe tbody tr th:only-of-type {\n",
       "        vertical-align: middle;\n",
       "    }\n",
       "\n",
       "    .dataframe tbody tr th {\n",
       "        vertical-align: top;\n",
       "    }\n",
       "\n",
       "    .dataframe thead th {\n",
       "        text-align: right;\n",
       "    }\n",
       "</style>\n",
       "<table border=\"1\" class=\"dataframe\">\n",
       "  <thead>\n",
       "    <tr style=\"text-align: right;\">\n",
       "      <th></th>\n",
       "      <th>FLUX.1</th>\n",
       "      <th>FLUX.2</th>\n",
       "      <th>FLUX.3</th>\n",
       "      <th>FLUX.4</th>\n",
       "      <th>FLUX.5</th>\n",
       "      <th>FLUX.6</th>\n",
       "      <th>FLUX.7</th>\n",
       "      <th>FLUX.8</th>\n",
       "      <th>FLUX.9</th>\n",
       "      <th>FLUX.10</th>\n",
       "      <th>...</th>\n",
       "      <th>FLUX.3188</th>\n",
       "      <th>FLUX.3189</th>\n",
       "      <th>FLUX.3190</th>\n",
       "      <th>FLUX.3191</th>\n",
       "      <th>FLUX.3192</th>\n",
       "      <th>FLUX.3193</th>\n",
       "      <th>FLUX.3194</th>\n",
       "      <th>FLUX.3195</th>\n",
       "      <th>FLUX.3196</th>\n",
       "      <th>FLUX.3197</th>\n",
       "    </tr>\n",
       "  </thead>\n",
       "  <tbody>\n",
       "    <tr>\n",
       "      <th>0</th>\n",
       "      <td>5.126298e-15</td>\n",
       "      <td>23.184733</td>\n",
       "      <td>40.545472</td>\n",
       "      <td>17.994173</td>\n",
       "      <td>13.772498</td>\n",
       "      <td>16.594294</td>\n",
       "      <td>17.532422</td>\n",
       "      <td>8.094149</td>\n",
       "      <td>8.045917</td>\n",
       "      <td>9.549431</td>\n",
       "      <td>...</td>\n",
       "      <td>7.981027</td>\n",
       "      <td>9.549431</td>\n",
       "      <td>8.045917</td>\n",
       "      <td>8.094149</td>\n",
       "      <td>17.532422</td>\n",
       "      <td>16.594294</td>\n",
       "      <td>13.772498</td>\n",
       "      <td>17.994173</td>\n",
       "      <td>40.545472</td>\n",
       "      <td>23.184733</td>\n",
       "    </tr>\n",
       "    <tr>\n",
       "      <th>1</th>\n",
       "      <td>3.980211e-14</td>\n",
       "      <td>135.637702</td>\n",
       "      <td>42.680618</td>\n",
       "      <td>28.017660</td>\n",
       "      <td>17.672923</td>\n",
       "      <td>16.099550</td>\n",
       "      <td>62.999485</td>\n",
       "      <td>27.005547</td>\n",
       "      <td>26.735149</td>\n",
       "      <td>29.708628</td>\n",
       "      <td>...</td>\n",
       "      <td>9.883983</td>\n",
       "      <td>29.708628</td>\n",
       "      <td>26.735149</td>\n",
       "      <td>27.005547</td>\n",
       "      <td>62.999485</td>\n",
       "      <td>16.099550</td>\n",
       "      <td>17.672923</td>\n",
       "      <td>28.017660</td>\n",
       "      <td>42.680618</td>\n",
       "      <td>135.637702</td>\n",
       "    </tr>\n",
       "    <tr>\n",
       "      <th>2</th>\n",
       "      <td>2.581991e-14</td>\n",
       "      <td>101.624620</td>\n",
       "      <td>26.553454</td>\n",
       "      <td>11.634754</td>\n",
       "      <td>11.720122</td>\n",
       "      <td>46.153088</td>\n",
       "      <td>23.677302</td>\n",
       "      <td>22.208643</td>\n",
       "      <td>14.393021</td>\n",
       "      <td>3.278532</td>\n",
       "      <td>...</td>\n",
       "      <td>7.742408</td>\n",
       "      <td>3.278532</td>\n",
       "      <td>14.393021</td>\n",
       "      <td>22.208643</td>\n",
       "      <td>23.677302</td>\n",
       "      <td>46.153088</td>\n",
       "      <td>11.720122</td>\n",
       "      <td>11.634754</td>\n",
       "      <td>26.553454</td>\n",
       "      <td>101.624620</td>\n",
       "    </tr>\n",
       "    <tr>\n",
       "      <th>3</th>\n",
       "      <td>4.574132e-14</td>\n",
       "      <td>37.305651</td>\n",
       "      <td>20.537365</td>\n",
       "      <td>5.108229</td>\n",
       "      <td>16.309293</td>\n",
       "      <td>20.286675</td>\n",
       "      <td>18.969927</td>\n",
       "      <td>6.010526</td>\n",
       "      <td>8.763040</td>\n",
       "      <td>6.370417</td>\n",
       "      <td>...</td>\n",
       "      <td>16.668561</td>\n",
       "      <td>6.370417</td>\n",
       "      <td>8.763040</td>\n",
       "      <td>6.010526</td>\n",
       "      <td>18.969927</td>\n",
       "      <td>20.286675</td>\n",
       "      <td>16.309293</td>\n",
       "      <td>5.108229</td>\n",
       "      <td>20.537365</td>\n",
       "      <td>37.305651</td>\n",
       "    </tr>\n",
       "    <tr>\n",
       "      <th>4</th>\n",
       "      <td>2.879381e-14</td>\n",
       "      <td>7.138386</td>\n",
       "      <td>11.941614</td>\n",
       "      <td>12.808132</td>\n",
       "      <td>27.841397</td>\n",
       "      <td>39.681676</td>\n",
       "      <td>17.985758</td>\n",
       "      <td>30.233859</td>\n",
       "      <td>14.800046</td>\n",
       "      <td>8.501530</td>\n",
       "      <td>...</td>\n",
       "      <td>5.167375</td>\n",
       "      <td>8.501530</td>\n",
       "      <td>14.800046</td>\n",
       "      <td>30.233859</td>\n",
       "      <td>17.985758</td>\n",
       "      <td>39.681676</td>\n",
       "      <td>27.841397</td>\n",
       "      <td>12.808132</td>\n",
       "      <td>11.941614</td>\n",
       "      <td>7.138386</td>\n",
       "    </tr>\n",
       "  </tbody>\n",
       "</table>\n",
       "<p>5 rows × 3197 columns</p>\n",
       "</div>"
      ],
      "text/plain": [
       "         FLUX.1      FLUX.2     FLUX.3     FLUX.4     FLUX.5     FLUX.6  \\\n",
       "0  5.126298e-15   23.184733  40.545472  17.994173  13.772498  16.594294   \n",
       "1  3.980211e-14  135.637702  42.680618  28.017660  17.672923  16.099550   \n",
       "2  2.581991e-14  101.624620  26.553454  11.634754  11.720122  46.153088   \n",
       "3  4.574132e-14   37.305651  20.537365   5.108229  16.309293  20.286675   \n",
       "4  2.879381e-14    7.138386  11.941614  12.808132  27.841397  39.681676   \n",
       "\n",
       "      FLUX.7     FLUX.8     FLUX.9    FLUX.10  ...  FLUX.3188  FLUX.3189  \\\n",
       "0  17.532422   8.094149   8.045917   9.549431  ...   7.981027   9.549431   \n",
       "1  62.999485  27.005547  26.735149  29.708628  ...   9.883983  29.708628   \n",
       "2  23.677302  22.208643  14.393021   3.278532  ...   7.742408   3.278532   \n",
       "3  18.969927   6.010526   8.763040   6.370417  ...  16.668561   6.370417   \n",
       "4  17.985758  30.233859  14.800046   8.501530  ...   5.167375   8.501530   \n",
       "\n",
       "   FLUX.3190  FLUX.3191  FLUX.3192  FLUX.3193  FLUX.3194  FLUX.3195  \\\n",
       "0   8.045917   8.094149  17.532422  16.594294  13.772498  17.994173   \n",
       "1  26.735149  27.005547  62.999485  16.099550  17.672923  28.017660   \n",
       "2  14.393021  22.208643  23.677302  46.153088  11.720122  11.634754   \n",
       "3   8.763040   6.010526  18.969927  20.286675  16.309293   5.108229   \n",
       "4  14.800046  30.233859  17.985758  39.681676  27.841397  12.808132   \n",
       "\n",
       "   FLUX.3196   FLUX.3197  \n",
       "0  40.545472   23.184733  \n",
       "1  42.680618  135.637702  \n",
       "2  26.553454  101.624620  \n",
       "3  20.537365   37.305651  \n",
       "4  11.941614    7.138386  \n",
       "\n",
       "[5 rows x 3197 columns]"
      ]
     },
     "execution_count": 8,
     "metadata": {},
     "output_type": "execute_result"
    }
   ],
   "source": [
    "x_fft_test_T = norm_test_df.iloc[:, 1:].T.apply(fast_fourier_transform)\n",
    "x_fft_test = x_fft_test_T.T\n",
    "x_fft_test.head()"
   ]
  },
  {
   "cell_type": "code",
   "execution_count": 9,
   "id": "fa0d5881",
   "metadata": {},
   "outputs": [],
   "source": [
    "y_train = norm_train_df['LABEL']\n",
    "y_test= norm_test_df['LABEL']"
   ]
  },
  {
   "cell_type": "code",
   "execution_count": 13,
   "id": "97fba7db",
   "metadata": {},
   "outputs": [
    {
     "name": "stdout",
     "output_type": "stream",
     "text": [
      "Requirement already satisfied: imblearn in c:\\users\\shrut\\anaconda3\\lib\\site-packages (0.0)\n",
      "Requirement already satisfied: imbalanced-learn in c:\\users\\shrut\\anaconda3\\lib\\site-packages (from imblearn) (0.9.1)\n",
      "Requirement already satisfied: numpy>=1.17.3 in c:\\users\\shrut\\anaconda3\\lib\\site-packages (from imbalanced-learn->imblearn) (1.20.3)\n",
      "Requirement already satisfied: joblib>=1.0.0 in c:\\users\\shrut\\anaconda3\\lib\\site-packages (from imbalanced-learn->imblearn) (1.1.0)\n",
      "Requirement already satisfied: threadpoolctl>=2.0.0 in c:\\users\\shrut\\anaconda3\\lib\\site-packages (from imbalanced-learn->imblearn) (2.2.0)\n",
      "Requirement already satisfied: scipy>=1.3.2 in c:\\users\\shrut\\anaconda3\\lib\\site-packages (from imbalanced-learn->imblearn) (1.7.1)\n",
      "Requirement already satisfied: scikit-learn>=1.1.0 in c:\\users\\shrut\\anaconda3\\lib\\site-packages (from imbalanced-learn->imblearn) (1.1.1)\n"
     ]
    }
   ],
   "source": [
    "!pip3 install imblearn"
   ]
  },
  {
   "cell_type": "code",
   "execution_count": 14,
   "id": "9d68f5ac",
   "metadata": {},
   "outputs": [],
   "source": [
    "from imblearn.over_sampling import SMOTE\n",
    "smote = SMOTE(sampling_strategy=1)\n",
    "x_fft_train_res,y_fft_train_res=smote.fit_resample(x_fft_train,y_train)"
   ]
  },
  {
   "cell_type": "code",
   "execution_count": 15,
   "id": "4da05e51",
   "metadata": {},
   "outputs": [
    {
     "data": {
      "text/plain": [
       "2    5050\n",
       "1    5050\n",
       "Name: LABEL, dtype: int64"
      ]
     },
     "execution_count": 15,
     "metadata": {},
     "output_type": "execute_result"
    }
   ],
   "source": [
    "y_fft_train_res.value_counts()"
   ]
  },
  {
   "cell_type": "code",
   "execution_count": 16,
   "id": "9ac3d61c",
   "metadata": {},
   "outputs": [],
   "source": [
    "from sklearn.ensemble import RandomForestClassifier\n",
    "from sklearn.metrics import confusion_matrix, classification_report"
   ]
  },
  {
   "cell_type": "code",
   "execution_count": 17,
   "id": "4e4f74bb",
   "metadata": {},
   "outputs": [
    {
     "name": "stdout",
     "output_type": "stream",
     "text": [
      "1.0\n"
     ]
    },
    {
     "data": {
      "text/plain": [
       "array([1, 1, 1, 1, 1, 1, 1, 1, 1, 1, 1, 1, 1, 1, 1, 1, 1, 1, 1, 1, 1, 1,\n",
       "       1, 1, 1, 1, 1, 1, 1, 1, 1, 1, 1, 1, 1, 1, 1, 1, 1, 1, 1, 1, 1, 1,\n",
       "       1, 1, 1, 1, 1, 1, 1, 1, 1, 1, 1, 1, 1, 1, 1, 1, 1, 1, 1, 1, 1, 1,\n",
       "       1, 1, 1, 1, 1, 1, 1, 1, 1, 1, 1, 1, 1, 1, 1, 1, 1, 1, 1, 1, 1, 1,\n",
       "       1, 1, 1, 1, 1, 1, 1, 1, 1, 1, 1, 1, 1, 1, 1, 1, 1, 1, 1, 1, 1, 1,\n",
       "       1, 1, 1, 1, 1, 1, 1, 1, 1, 1, 1, 1, 1, 1, 1, 1, 1, 1, 1, 1, 1, 1,\n",
       "       1, 1, 1, 1, 1, 1, 1, 1, 1, 1, 1, 1, 1, 1, 1, 1, 1, 1, 1, 1, 1, 1,\n",
       "       1, 1, 1, 1, 1, 1, 1, 1, 1, 1, 1, 1, 1, 1, 1, 1, 1, 1, 1, 1, 1, 1,\n",
       "       1, 1, 1, 1, 1, 1, 1, 1, 1, 1, 1, 1, 1, 1, 1, 1, 1, 1, 1, 1, 1, 1,\n",
       "       1, 1, 1, 1, 1, 1, 1, 1, 1, 1, 1, 1, 1, 1, 1, 1, 1, 1, 1, 1, 1, 1,\n",
       "       1, 1, 1, 1, 1, 1, 1, 1, 1, 1, 1, 1, 1, 1, 1, 1, 1, 1, 1, 1, 1, 1,\n",
       "       1, 1, 1, 1, 1, 1, 1, 1, 1, 1, 1, 1, 1, 1, 1, 1, 1, 1, 1, 1, 1, 1,\n",
       "       1, 1, 1, 1, 1, 1, 1, 1, 1, 1, 1, 1, 1, 1, 1, 1, 1, 1, 1, 1, 1, 1,\n",
       "       1, 1, 1, 1, 1, 1, 1, 1, 1, 1, 1, 1, 1, 1, 1, 1, 1, 1, 1, 1, 1, 1,\n",
       "       1, 1, 1, 1, 1, 1, 1, 1, 1, 1, 1, 1, 1, 1, 1, 1, 1, 1, 1, 1, 1, 1,\n",
       "       1, 1, 1, 1, 1, 1, 1, 1, 1, 1, 1, 1, 1, 1, 1, 1, 1, 1, 1, 1, 1, 1,\n",
       "       1, 1, 1, 1, 1, 1, 1, 1, 1, 1, 1, 1, 1, 1, 1, 1, 1, 1, 1, 1, 1, 1,\n",
       "       1, 1, 1, 1, 1, 1, 1, 1, 1, 1, 1, 1, 1, 1, 1, 1, 1, 1, 1, 1, 1, 1,\n",
       "       1, 1, 1, 1, 1, 1, 1, 1, 1, 1, 1, 1, 1, 1, 1, 1, 1, 1, 1, 1, 1, 1,\n",
       "       1, 1, 1, 1, 1, 1, 1, 1, 1, 1, 1, 1, 1, 1, 1, 1, 1, 1, 1, 1, 1, 1,\n",
       "       1, 1, 1, 1, 1, 1, 1, 1, 1, 1, 1, 1, 1, 1, 1, 1, 1, 1, 1, 1, 1, 1,\n",
       "       1, 1, 1, 1, 1, 1, 1, 1, 1, 1, 1, 1, 1, 1, 1, 1, 1, 1, 1, 1, 1, 1,\n",
       "       1, 1, 1, 1, 1, 1, 1, 1, 1, 1, 1, 1, 1, 1, 1, 1, 1, 1, 1, 1, 1, 1,\n",
       "       1, 1, 1, 1, 1, 1, 1, 1, 1, 1, 1, 1, 1, 1, 1, 1, 1, 1, 1, 1, 1, 1,\n",
       "       1, 1, 1, 1, 1, 1, 1, 1, 1, 1, 1, 1, 1, 1, 1, 1, 1, 1, 1, 1, 1, 1,\n",
       "       1, 1, 1, 1, 1, 1, 1, 1, 1, 1, 1, 1, 1, 1, 1, 1, 1, 1, 1, 1],\n",
       "      dtype=int64)"
      ]
     },
     "execution_count": 17,
     "metadata": {},
     "output_type": "execute_result"
    }
   ],
   "source": [
    "rf_clf = RandomForestClassifier(n_jobs=-1, n_estimators=50)\n",
    "\n",
    "rf_clf.fit(x_fft_train_res, y_fft_train_res)\n",
    "print(rf_clf.score(x_fft_train_res, y_fft_train_res))\n",
    "\n",
    "y_pred = rf_clf.predict(x_fft_test)\n",
    "y_pred"
   ]
  },
  {
   "cell_type": "code",
   "execution_count": 18,
   "id": "e360cf71",
   "metadata": {},
   "outputs": [
    {
     "data": {
      "text/plain": [
       "array([[565,   0],\n",
       "       [  5,   0]], dtype=int64)"
      ]
     },
     "execution_count": 18,
     "metadata": {},
     "output_type": "execute_result"
    }
   ],
   "source": [
    "confusion_matrix(y_test,y_pred)"
   ]
  },
  {
   "cell_type": "code",
   "execution_count": 20,
   "id": "9bf7c6a4",
   "metadata": {},
   "outputs": [
    {
     "name": "stdout",
     "output_type": "stream",
     "text": [
      "              precision    recall  f1-score   support\n",
      "\n",
      "           1       0.99      1.00      1.00       565\n",
      "           2       0.00      0.00      0.00         5\n",
      "\n",
      "    accuracy                           0.99       570\n",
      "   macro avg       0.50      0.50      0.50       570\n",
      "weighted avg       0.98      0.99      0.99       570\n",
      "\n"
     ]
    },
    {
     "name": "stderr",
     "output_type": "stream",
     "text": [
      "C:\\Users\\shrut\\anaconda3\\lib\\site-packages\\sklearn\\metrics\\_classification.py:1327: UndefinedMetricWarning: Precision and F-score are ill-defined and being set to 0.0 in labels with no predicted samples. Use `zero_division` parameter to control this behavior.\n",
      "  _warn_prf(average, modifier, msg_start, len(result))\n",
      "C:\\Users\\shrut\\anaconda3\\lib\\site-packages\\sklearn\\metrics\\_classification.py:1327: UndefinedMetricWarning: Precision and F-score are ill-defined and being set to 0.0 in labels with no predicted samples. Use `zero_division` parameter to control this behavior.\n",
      "  _warn_prf(average, modifier, msg_start, len(result))\n",
      "C:\\Users\\shrut\\anaconda3\\lib\\site-packages\\sklearn\\metrics\\_classification.py:1327: UndefinedMetricWarning: Precision and F-score are ill-defined and being set to 0.0 in labels with no predicted samples. Use `zero_division` parameter to control this behavior.\n",
      "  _warn_prf(average, modifier, msg_start, len(result))\n"
     ]
    }
   ],
   "source": [
    "print(classification_report(y_test,y_pred))"
   ]
  },
  {
   "cell_type": "code",
   "execution_count": 22,
   "id": "b0d38ac2",
   "metadata": {},
   "outputs": [
    {
     "ename": "ValueError",
     "evalue": "Invalid classes inferred from unique values of `y`.  Expected: [0 1], got [1 2]",
     "output_type": "error",
     "traceback": [
      "\u001b[1;31m---------------------------------------------------------------------------\u001b[0m",
      "\u001b[1;31mValueError\u001b[0m                                Traceback (most recent call last)",
      "\u001b[1;32m~\\AppData\\Local\\Temp/ipykernel_8988/2440584272.py\u001b[0m in \u001b[0;36m<module>\u001b[1;34m\u001b[0m\n\u001b[0;32m      1\u001b[0m \u001b[1;32mimport\u001b[0m \u001b[0mxgboost\u001b[0m \u001b[1;32mas\u001b[0m \u001b[0mxg\u001b[0m\u001b[1;33m\u001b[0m\u001b[1;33m\u001b[0m\u001b[0m\n\u001b[0;32m      2\u001b[0m \u001b[0mmodel\u001b[0m \u001b[1;33m=\u001b[0m \u001b[0mxg\u001b[0m\u001b[1;33m.\u001b[0m\u001b[0mXGBClassifier\u001b[0m\u001b[1;33m(\u001b[0m\u001b[1;33m)\u001b[0m\u001b[1;33m\u001b[0m\u001b[1;33m\u001b[0m\u001b[0m\n\u001b[1;32m----> 3\u001b[1;33m \u001b[0mmodel\u001b[0m\u001b[1;33m.\u001b[0m\u001b[0mfit\u001b[0m\u001b[1;33m(\u001b[0m\u001b[0mx_fft_train_res\u001b[0m\u001b[1;33m,\u001b[0m \u001b[0my_fft_train_res\u001b[0m\u001b[1;33m)\u001b[0m\u001b[1;33m\u001b[0m\u001b[1;33m\u001b[0m\u001b[0m\n\u001b[0m\u001b[0;32m      4\u001b[0m \u001b[0my2_pred\u001b[0m \u001b[1;33m=\u001b[0m \u001b[0mmodel\u001b[0m\u001b[1;33m.\u001b[0m\u001b[0mpredict\u001b[0m\u001b[1;33m(\u001b[0m\u001b[0mx_fft_test\u001b[0m\u001b[1;33m)\u001b[0m\u001b[1;33m\u001b[0m\u001b[1;33m\u001b[0m\u001b[0m\n\u001b[0;32m      5\u001b[0m \u001b[0my2_pred\u001b[0m\u001b[1;33m\u001b[0m\u001b[1;33m\u001b[0m\u001b[0m\n",
      "\u001b[1;32m~\\anaconda3\\lib\\site-packages\\xgboost\\core.py\u001b[0m in \u001b[0;36minner_f\u001b[1;34m(*args, **kwargs)\u001b[0m\n\u001b[0;32m    530\u001b[0m         \u001b[1;32mfor\u001b[0m \u001b[0mk\u001b[0m\u001b[1;33m,\u001b[0m \u001b[0marg\u001b[0m \u001b[1;32min\u001b[0m \u001b[0mzip\u001b[0m\u001b[1;33m(\u001b[0m\u001b[0msig\u001b[0m\u001b[1;33m.\u001b[0m\u001b[0mparameters\u001b[0m\u001b[1;33m,\u001b[0m \u001b[0margs\u001b[0m\u001b[1;33m)\u001b[0m\u001b[1;33m:\u001b[0m\u001b[1;33m\u001b[0m\u001b[1;33m\u001b[0m\u001b[0m\n\u001b[0;32m    531\u001b[0m             \u001b[0mkwargs\u001b[0m\u001b[1;33m[\u001b[0m\u001b[0mk\u001b[0m\u001b[1;33m]\u001b[0m \u001b[1;33m=\u001b[0m \u001b[0marg\u001b[0m\u001b[1;33m\u001b[0m\u001b[1;33m\u001b[0m\u001b[0m\n\u001b[1;32m--> 532\u001b[1;33m         \u001b[1;32mreturn\u001b[0m \u001b[0mf\u001b[0m\u001b[1;33m(\u001b[0m\u001b[1;33m**\u001b[0m\u001b[0mkwargs\u001b[0m\u001b[1;33m)\u001b[0m\u001b[1;33m\u001b[0m\u001b[1;33m\u001b[0m\u001b[0m\n\u001b[0m\u001b[0;32m    533\u001b[0m \u001b[1;33m\u001b[0m\u001b[0m\n\u001b[0;32m    534\u001b[0m     \u001b[1;32mreturn\u001b[0m \u001b[0minner_f\u001b[0m\u001b[1;33m\u001b[0m\u001b[1;33m\u001b[0m\u001b[0m\n",
      "\u001b[1;32m~\\anaconda3\\lib\\site-packages\\xgboost\\sklearn.py\u001b[0m in \u001b[0;36mfit\u001b[1;34m(self, X, y, sample_weight, base_margin, eval_set, eval_metric, early_stopping_rounds, verbose, xgb_model, sample_weight_eval_set, base_margin_eval_set, feature_weights, callbacks)\u001b[0m\n\u001b[0;32m   1355\u001b[0m             \u001b[1;32mor\u001b[0m \u001b[1;32mnot\u001b[0m \u001b[1;33m(\u001b[0m\u001b[0mself\u001b[0m\u001b[1;33m.\u001b[0m\u001b[0mclasses_\u001b[0m \u001b[1;33m==\u001b[0m \u001b[0mexpected_classes\u001b[0m\u001b[1;33m)\u001b[0m\u001b[1;33m.\u001b[0m\u001b[0mall\u001b[0m\u001b[1;33m(\u001b[0m\u001b[1;33m)\u001b[0m\u001b[1;33m\u001b[0m\u001b[1;33m\u001b[0m\u001b[0m\n\u001b[0;32m   1356\u001b[0m         ):\n\u001b[1;32m-> 1357\u001b[1;33m             raise ValueError(\n\u001b[0m\u001b[0;32m   1358\u001b[0m                 \u001b[1;34mf\"Invalid classes inferred from unique values of `y`.  \"\u001b[0m\u001b[1;33m\u001b[0m\u001b[1;33m\u001b[0m\u001b[0m\n\u001b[0;32m   1359\u001b[0m                 \u001b[1;34mf\"Expected: {expected_classes}, got {self.classes_}\"\u001b[0m\u001b[1;33m\u001b[0m\u001b[1;33m\u001b[0m\u001b[0m\n",
      "\u001b[1;31mValueError\u001b[0m: Invalid classes inferred from unique values of `y`.  Expected: [0 1], got [1 2]"
     ]
    }
   ],
   "source": [
    "import xgboost as xg\n",
    "model = xg.XGBClassifier()\n",
    "model.fit(x_fft_train_res, y_fft_train_res)\n",
    "y2_pred = model.predict(x_fft_test)\n",
    "y2_pred"
   ]
  },
  {
   "cell_type": "code",
   "execution_count": null,
   "id": "77178f2f",
   "metadata": {},
   "outputs": [],
   "source": [
    "confusion_matrix(y_test, y2_pred)"
   ]
  },
  {
   "cell_type": "code",
   "execution_count": null,
   "id": "5c8e1535",
   "metadata": {},
   "outputs": [],
   "source": [
    "print(classification_report(y_test, y2_pred))"
   ]
  }
 ],
 "metadata": {
  "kernelspec": {
   "display_name": "Python 3 (ipykernel)",
   "language": "python",
   "name": "python3"
  },
  "language_info": {
   "codemirror_mode": {
    "name": "ipython",
    "version": 3
   },
   "file_extension": ".py",
   "mimetype": "text/x-python",
   "name": "python",
   "nbconvert_exporter": "python",
   "pygments_lexer": "ipython3",
   "version": "3.9.7"
  }
 },
 "nbformat": 4,
 "nbformat_minor": 5
}
